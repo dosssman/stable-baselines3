{
 "cells": [
  {
   "cell_type": "code",
   "execution_count": 1,
   "source": [
    "from data_utils import full_padded_data_loader_hwm"
   ],
   "outputs": [],
   "metadata": {}
  },
  {
   "cell_type": "code",
   "execution_count": 2,
   "source": [
    "train_dataloader, obs_shape, act_shape = full_padded_data_loader_hwm(f\"datasets/MiniGrid-FourRooms-Size11-v0_SB3_PPOAgent_WithFactStates_Padded.npz\", 32)"
   ],
   "outputs": [],
   "metadata": {}
  },
  {
   "cell_type": "code",
   "execution_count": 4,
   "source": [
    "obs_shape, act_shape"
   ],
   "outputs": [
    {
     "output_type": "execute_result",
     "data": {
      "text/plain": [
       "([3, 64, 64], 3)"
      ]
     },
     "metadata": {},
     "execution_count": 4
    }
   ],
   "metadata": {}
  },
  {
   "cell_type": "code",
   "execution_count": 5,
   "source": [
    "batch_observations, batch_actions, batch_depad_mask, batch_depad_slices = next(iter(train_dataloader))"
   ],
   "outputs": [],
   "metadata": {}
  },
  {
   "cell_type": "code",
   "execution_count": 6,
   "source": [
    "batch_observations.shape, batch_actions.shape, batch_depad_mask.shape, batch_depad_slices.shape"
   ],
   "outputs": [
    {
     "output_type": "execute_result",
     "data": {
      "text/plain": [
       "(torch.Size([32, 24, 3, 64, 64]),\n",
       " torch.Size([32, 24, 3]),\n",
       " torch.Size([32, 22, 1]),\n",
       " torch.Size([32, 2]))"
      ]
     },
     "metadata": {},
     "execution_count": 6
    }
   ],
   "metadata": {}
  }
 ],
 "metadata": {
  "orig_nbformat": 4,
  "language_info": {
   "name": "python",
   "version": "3.8.8",
   "mimetype": "text/x-python",
   "codemirror_mode": {
    "name": "ipython",
    "version": 3
   },
   "pygments_lexer": "ipython3",
   "nbconvert_exporter": "python",
   "file_extension": ".py"
  },
  "kernelspec": {
   "name": "python3",
   "display_name": "Python 3.8.8 64-bit ('hwm': conda)"
  },
  "interpreter": {
   "hash": "1894a78a4a0aae8caa0c39deebd3dba21f3d63f734dab84691c98aeb0f16a75c"
  }
 },
 "nbformat": 4,
 "nbformat_minor": 2
}