{
 "cells": [
  {
   "cell_type": "code",
   "execution_count": 2,
   "source": [
    "from hwm.gym_minigrid_2.data_utils import full_padded_data_loader_hwm"
   ],
   "outputs": [],
   "metadata": {}
  },
  {
   "cell_type": "code",
   "execution_count": 3,
   "source": [
    "train_loader, test_loader, eval_traj_train_subset, eval_traj_test_subset, obs_shape, act_shape = \\\n",
    "    full_padded_data_loader_hwm(f\"datasets/MiniGrid-FourRooms-Size11-v0_SB3_PPOAgent_WithFactStates_Padded.npz\", 32)"
   ],
   "outputs": [
    {
     "output_type": "stream",
     "name": "stdout",
     "text": [
      " n epsidoes in dataset:  70\n",
      " n epsidoes in dataset:  17\n"
     ]
    }
   ],
   "metadata": {}
  },
  {
   "cell_type": "code",
   "execution_count": 4,
   "source": [
    "eval_traj_train_subset.shape, eval_traj_test_subset.shape"
   ],
   "outputs": [
    {
     "output_type": "execute_result",
     "data": {
      "text/plain": [
       "((70,), (17,))"
      ]
     },
     "metadata": {},
     "execution_count": 4
    }
   ],
   "metadata": {}
  },
  {
   "cell_type": "code",
   "execution_count": 5,
   "source": [
    "obs_shape, act_shape"
   ],
   "outputs": [
    {
     "output_type": "execute_result",
     "data": {
      "text/plain": [
       "([3, 64, 64], 3)"
      ]
     },
     "metadata": {},
     "execution_count": 5
    }
   ],
   "metadata": {}
  },
  {
   "cell_type": "code",
   "execution_count": 6,
   "source": [
    "batch_observations, batch_actions, batch_terminals, batch_depad_masks, batch_depad_slices = next(iter(train_loader))"
   ],
   "outputs": [],
   "metadata": {}
  },
  {
   "cell_type": "code",
   "execution_count": 7,
   "source": [
    "batch_observations.shape, batch_actions.shape, batch_terminals.shape, batch_depad_masks.shape, batch_depad_slices.shape\n",
    "batch_observations.type(), batch_actions.type(), batch_terminals.type(), batch_depad_masks.type(), batch_depad_slices.type()"
   ],
   "outputs": [
    {
     "output_type": "execute_result",
     "data": {
      "text/plain": [
       "('torch.ByteTensor',\n",
       " 'torch.ByteTensor',\n",
       " 'torch.FloatTensor',\n",
       " 'torch.FloatTensor',\n",
       " 'torch.ByteTensor')"
      ]
     },
     "metadata": {},
     "execution_count": 7
    }
   ],
   "metadata": {}
  }
 ],
 "metadata": {
  "orig_nbformat": 4,
  "language_info": {
   "name": "python",
   "version": "3.8.8",
   "mimetype": "text/x-python",
   "codemirror_mode": {
    "name": "ipython",
    "version": 3
   },
   "pygments_lexer": "ipython3",
   "nbconvert_exporter": "python",
   "file_extension": ".py"
  },
  "kernelspec": {
   "name": "python3",
   "display_name": "Python 3.8.8 64-bit ('hwm': conda)"
  },
  "interpreter": {
   "hash": "1894a78a4a0aae8caa0c39deebd3dba21f3d63f734dab84691c98aeb0f16a75c"
  }
 },
 "nbformat": 4,
 "nbformat_minor": 2
}